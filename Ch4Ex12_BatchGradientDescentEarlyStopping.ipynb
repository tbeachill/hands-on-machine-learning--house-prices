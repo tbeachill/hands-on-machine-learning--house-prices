{
 "cells": [
  {
   "cell_type": "markdown",
   "id": "40476797",
   "metadata": {},
   "source": [
    "### Batch Gradient Descent with early stopping for Softmax Regression without SK-learn"
   ]
  },
  {
   "cell_type": "code",
   "execution_count": 27,
   "id": "33265673",
   "metadata": {},
   "outputs": [],
   "source": [
    "# Load the iris dataset\n",
    "\n",
    "from sklearn import datasets\n",
    "\n",
    "iris = datasets.load_iris()"
   ]
  },
  {
   "cell_type": "code",
   "execution_count": 28,
   "id": "bdd792d0",
   "metadata": {},
   "outputs": [],
   "source": [
    "# Extract just the petal length and petal width\n",
    "\n",
    "X = iris.data[:, (2, 3)]\n",
    "y = iris.target"
   ]
  },
  {
   "cell_type": "code",
   "execution_count": 29,
   "id": "7c2def5c",
   "metadata": {},
   "outputs": [],
   "source": [
    "# Add the bias term for every instance\n",
    "\n",
    "import numpy as np\n",
    "\n",
    "X_bias = np.c_[np.ones([len(X), 1]), X]"
   ]
  },
  {
   "cell_type": "code",
   "execution_count": 30,
   "id": "e8a887ed",
   "metadata": {},
   "outputs": [],
   "source": [
    "# Create training and test sets\n",
    "\n",
    "test_pct = 0.2\n",
    "validation_pct = 0.2\n",
    "full_size = len(X_bias)\n",
    "\n",
    "test_size = int(full_size * test_pct)\n",
    "validation_size = int(full_size * validation_pct)\n",
    "train_size = full_size - test_size - validation_size\n",
    "\n",
    "rnd_indices = np.random.permutation(full_size)\n",
    "\n",
    "X_train = X_bias[rnd_indices[:train_size]]\n",
    "y_train = y[rnd_indices[:train_size]]\n",
    "X_valid = X_bias[rnd_indices[train_size:-test_size]]\n",
    "y_valid = y[rnd_indices[train_size:-test_size]]\n",
    "X_test = X_bias[rnd_indices[-test_size:]]\n",
    "y_test = y[rnd_indices[-test_size:]]"
   ]
  },
  {
   "cell_type": "code",
   "execution_count": 31,
   "id": "d5063dcf",
   "metadata": {},
   "outputs": [],
   "source": [
    "# Define a function for one hot encoding\n",
    "\n",
    "def to_one_hot(y):\n",
    "    n_classes = y.max() + 1\n",
    "    m = len(y)\n",
    "    Y_one_hot = np.zeros((m, n_classes))\n",
    "    Y_one_hot[np.arange(m), y] = 1\n",
    "    return Y_one_hot"
   ]
  },
  {
   "cell_type": "code",
   "execution_count": 32,
   "id": "57a1b60a",
   "metadata": {},
   "outputs": [],
   "source": [
    "# Perform one hot encoding\n",
    "\n",
    "Y_train_one_hot = to_one_hot(y_train)\n",
    "Y_valid_one_hot = to_one_hot(y_valid)\n",
    "Y_test_one_hot = to_one_hot(y_test)"
   ]
  },
  {
   "cell_type": "code",
   "execution_count": 33,
   "id": "2cdcbd25",
   "metadata": {},
   "outputs": [],
   "source": [
    "# Define a function for softmax regression\n",
    "\n",
    "def softmax(logits):\n",
    "    exps = np.exp(logits)\n",
    "    exp_sums = np.sum(exps, axis=1, keepdims=True)\n",
    "    return exps / exp_sums"
   ]
  },
  {
   "cell_type": "code",
   "execution_count": 34,
   "id": "f4cae32d",
   "metadata": {},
   "outputs": [],
   "source": [
    "# Define the number of inputs and outputs\n",
    "\n",
    "n_inputs = X_train.shape[1]\n",
    "n_outputs = len(np.unique(y_train))"
   ]
  },
  {
   "cell_type": "code",
   "execution_count": 35,
   "id": "32345cdc",
   "metadata": {},
   "outputs": [
    {
     "name": "stdout",
     "output_type": "stream",
     "text": [
      "0 8.39514458132667\n",
      "500 0.7253711503438807\n",
      "1000 0.6254153737178114\n",
      "1500 0.5604715418952129\n",
      "2000 0.515653335946687\n",
      "2500 0.4826760094805529\n",
      "3000 0.45705418324167074\n",
      "3500 0.43627500011700276\n",
      "4000 0.4188575765076855\n",
      "4500 0.403883253749611\n",
      "5000 0.3907546566169793\n"
     ]
    }
   ],
   "source": [
    "# Train the model\n",
    "\n",
    "eta = 0.01\n",
    "n_iterations = 5001\n",
    "m = len(X_train)\n",
    "epsilon = 1e-7\n",
    "\n",
    "Theta = np.random.randn(n_inputs, n_outputs)\n",
    "\n",
    "for iteration in range(n_iterations):\n",
    "    logits = X_train.dot(Theta)\n",
    "    Y_proba = softmax(logits)\n",
    "    if iteration % 500 == 0:\n",
    "        loss = -np.mean(np.sum(Y_train_one_hot * np.log(Y_proba + epsilon), axis=1))\n",
    "        print(iteration, loss)\n",
    "    error = Y_proba - Y_train_one_hot\n",
    "    gradients = 1/m * X_train.T.dot(error)\n",
    "    Theta = Theta - eta * gradients"
   ]
  },
  {
   "cell_type": "code",
   "execution_count": 36,
   "id": "8a6fa213",
   "metadata": {},
   "outputs": [
    {
     "data": {
      "text/plain": [
       "0.9"
      ]
     },
     "execution_count": 36,
     "metadata": {},
     "output_type": "execute_result"
    }
   ],
   "source": [
    "# Make predictions and check the accuracy\n",
    "\n",
    "logits = X_valid.dot(Theta)\n",
    "Y_proba = softmax(logits)\n",
    "y_predict = np.argmax(Y_proba, axis=1)\n",
    "\n",
    "accuracy_score = np.mean(y_predict == y_valid)\n",
    "accuracy_score"
   ]
  }
 ],
 "metadata": {
  "kernelspec": {
   "display_name": "Python 3",
   "language": "python",
   "name": "python3"
  },
  "language_info": {
   "codemirror_mode": {
    "name": "ipython",
    "version": 3
   },
   "file_extension": ".py",
   "mimetype": "text/x-python",
   "name": "python",
   "nbconvert_exporter": "python",
   "pygments_lexer": "ipython3",
   "version": "3.8.8"
  }
 },
 "nbformat": 4,
 "nbformat_minor": 5
}
