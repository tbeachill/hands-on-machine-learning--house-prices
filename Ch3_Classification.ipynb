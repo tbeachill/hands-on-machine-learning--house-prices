{
 "cells": [
  {
   "cell_type": "markdown",
   "id": "dac799aa",
   "metadata": {},
   "source": [
    "# Classification\n",
    "### Hands-On Machine Learning with SciKit-Learn, Keras & Tensorflow, 2nd ed. - A. Géron"
   ]
  },
  {
   "cell_type": "markdown",
   "id": "b12f9951",
   "metadata": {},
   "source": [
    "### MNIST\n",
    "The MNIST dataset contains 70,000 images of handwritten digits"
   ]
  },
  {
   "cell_type": "code",
   "execution_count": 4,
   "id": "fc772a19",
   "metadata": {},
   "outputs": [],
   "source": [
    "# Download the MNIST dataset\n",
    "\n",
    "def sort_by_target(mnist):\n",
    "    reorder_train = np.array(sorted([(target, i) for i, target in enumerate(mnist.target[:60000])]))[:, 1]\n",
    "    reorder_test = np.array(sorted([(target, i) for i, target in enumerate(mnist.target[60000:])]))[:, 1]\n",
    "    mnist.data[:60000] = mnist.data[reorder_train]\n",
    "    mnist.target[:60000] = mnist.target[reorder_train]\n",
    "    mnist.data[60000:] = mnist.data[reorder_test + 60000]\n",
    "    mnist.target[60000:] = mnist.target[reorder_test + 60000]"
   ]
  },
  {
   "cell_type": "code",
   "execution_count": 5,
   "id": "db5ea6ba",
   "metadata": {},
   "outputs": [
    {
     "data": {
      "text/plain": [
       "(array([[0., 0., 0., ..., 0., 0., 0.],\n",
       "        [0., 0., 0., ..., 0., 0., 0.],\n",
       "        [0., 0., 0., ..., 0., 0., 0.],\n",
       "        ...,\n",
       "        [0., 0., 0., ..., 0., 0., 0.],\n",
       "        [0., 0., 0., ..., 0., 0., 0.],\n",
       "        [0., 0., 0., ..., 0., 0., 0.]]),\n",
       " array([0, 0, 0, ..., 9, 9, 9], dtype=int8))"
      ]
     },
     "execution_count": 5,
     "metadata": {},
     "output_type": "execute_result"
    }
   ],
   "source": [
    "import numpy as np\n",
    "\n",
    "try:\n",
    "    from sklearn.datasets import fetch_openml\n",
    "    mnist = fetch_openml('mnist_784', version=1, cache=True, as_frame=False)\n",
    "    mnist.target = mnist.target.astype(np.int8) # fetch_openml() returns targets as strings\n",
    "    sort_by_target(mnist) # fetch_openml() returns an unsorted dataset\n",
    "except ImportError:\n",
    "    from sklearn.datasets import fetch_mldata\n",
    "    mnist = fetch_mldata('MNIST original')\n",
    "mnist[\"data\"], mnist[\"target\"]\n",
    "\n"
   ]
  },
  {
   "cell_type": "markdown",
   "id": "b9399756",
   "metadata": {},
   "source": [
    " - The 70,000 images each have 784 features\n",
    " - Each feature represents pixel intensity in a 28 x 28 grid"
   ]
  },
  {
   "cell_type": "code",
   "execution_count": 6,
   "id": "18cb448c",
   "metadata": {},
   "outputs": [
    {
     "data": {
      "text/plain": [
       "((70000, 784), (70000,))"
      ]
     },
     "execution_count": 6,
     "metadata": {},
     "output_type": "execute_result"
    }
   ],
   "source": [
    "X, y = mnist['data'], mnist['target']\n",
    "X.shape, y.shape"
   ]
  },
  {
   "cell_type": "code",
   "execution_count": 7,
   "id": "4f2d3f55",
   "metadata": {},
   "outputs": [
    {
     "data": {
      "image/png": "[encoded data removed]",
      "text/plain": [
       "<Figure size 432x288 with 1 Axes>"
      ]
     },
     "metadata": {
      "needs_background": "light"
     },
     "output_type": "display_data"
    }
   ],
   "source": [
    "# Plot the first digit\n",
    "\n",
    "import matplotlib as mpl\n",
    "import matplotlib.pyplot as plt\n",
    "\n",
    "some_digit = X[35000]\n",
    "some_digit_image = some_digit.reshape(28, 28)\n",
    "\n",
    "plt.imshow(some_digit_image, cmap='binary')\n",
    "plt.axis('off')\n",
    "plt.show()"
   ]
  },
  {
   "cell_type": "code",
   "execution_count": 8,
   "id": "5b43c65b",
   "metadata": {},
   "outputs": [
    {
     "data": {
      "text/plain": [
       "5"
      ]
     },
     "execution_count": 8,
     "metadata": {},
     "output_type": "execute_result"
    }
   ],
   "source": [
    "y[35000]"
   ]
  },
  {
   "cell_type": "markdown",
   "id": "831264fe",
   "metadata": {},
   "source": [
    "The MNIST dataset is already shuffled and split into a training set (the first 60,000 images), and test set (the last 10,000 images)."
   ]
  },
  {
   "cell_type": "code",
   "execution_count": 9,
   "id": "ee443d9f",
   "metadata": {},
   "outputs": [],
   "source": [
    "# Split the training and test sets\n",
    "\n",
    "X_train, X_test, y_train, y_test = X[:60000], X[60000:], y[:60000], y[60000:]"
   ]
  },
  {
   "cell_type": "code",
   "execution_count": 10,
   "id": "462d455f",
   "metadata": {},
   "outputs": [],
   "source": [
    "shuffle_index = np.random.permutation(60000)\n",
    "X_train, y_train = X_train[shuffle_index], y_train[shuffle_index]"
   ]
  },
  {
   "cell_type": "markdown",
   "id": "b4e878e6",
   "metadata": {},
   "source": [
    "### Training a Binary Classifier\n",
    " -  For now, we will try to identify only one digit, \"5\"\n",
    " - This is a binary classifier, capable of distinguishing between two classes"
   ]
  },
  {
   "cell_type": "code",
   "execution_count": 11,
   "id": "2adec269",
   "metadata": {},
   "outputs": [],
   "source": [
    "# Create the target vectors\n",
    "\n",
    "y_train_5 = (y_train == 5)\n",
    "y_test_5 = (y_test == 5)"
   ]
  },
  {
   "cell_type": "code",
   "execution_count": 12,
   "id": "dab165fb",
   "metadata": {},
   "outputs": [
    {
     "data": {
      "text/plain": [
       "array([False, False, False, ..., False, False, False])"
      ]
     },
     "execution_count": 12,
     "metadata": {},
     "output_type": "execute_result"
    }
   ],
   "source": [
    "y_test_5"
   ]
  },
  {
   "cell_type": "markdown",
   "id": "599e2c12",
   "metadata": {},
   "source": [
    "We will use Stochastic Gradient Descent (SGD), which can handle large datasets efficiently"
   ]
  },
  {
   "cell_type": "code",
   "execution_count": 13,
   "id": "8646350a",
   "metadata": {},
   "outputs": [
    {
     "data": {
      "text/plain": [
       "SGDClassifier(max_iter=5, random_state=42, tol=-inf)"
      ]
     },
     "execution_count": 13,
     "metadata": {},
     "output_type": "execute_result"
    }
   ],
   "source": [
    "from sklearn.linear_model import SGDClassifier\n",
    "\n",
    "sgd_clf = SGDClassifier(max_iter=5, tol=-np.infty, random_state=42)\n",
    "sgd_clf.fit(X_train, y_train_5)"
   ]
  },
  {
   "cell_type": "code",
   "execution_count": 14,
   "id": "aaf293c5",
   "metadata": {},
   "outputs": [
    {
     "data": {
      "text/plain": [
       "array([ True])"
      ]
     },
     "execution_count": 14,
     "metadata": {},
     "output_type": "execute_result"
    }
   ],
   "source": [
    "# Predict the digit from the image of a 5 shown earlier\n",
    "\n",
    "sgd_clf.predict([some_digit])"
   ]
  },
  {
   "cell_type": "markdown",
   "id": "b38b9e93",
   "metadata": {},
   "source": [
    "### Performance Measures"
   ]
  },
  {
   "cell_type": "markdown",
   "id": "a99820a9",
   "metadata": {},
   "source": [
    "#### Cross-Validation"
   ]
  },
  {
   "cell_type": "markdown",
   "id": "2724e2a4",
   "metadata": {},
   "source": [
    "We will use the cross_val_score() function to evaluate our model, using K-fold cross-validation with three folds.\n",
    "\n",
    "This means splitting the training set into three folds, making predictions, then evaluating them on each fold using a model trained on the remaining folds"
   ]
  },
  {
   "cell_type": "code",
   "execution_count": 15,
   "id": "421fbd98",
   "metadata": {},
   "outputs": [
    {
     "data": {
      "text/plain": [
       "array([0.96605, 0.944  , 0.96145])"
      ]
     },
     "execution_count": 15,
     "metadata": {},
     "output_type": "execute_result"
    }
   ],
   "source": [
    "from sklearn.model_selection import cross_val_score\n",
    "\n",
    "cross_val_score(sgd_clf, X_train, y_train_5, cv=3, scoring='accuracy')"
   ]
  },
  {
   "cell_type": "markdown",
   "id": "81666532",
   "metadata": {},
   "source": [
    "As only about 10% of images are 5s, if you always guess that the image is not a 5, you will be right about 90% of the time. \n",
    "\n",
    "This is why accuracy is not the preferred measure for classifiers, especially when dealing with skewed datasets (when some classes are much more frequent than others)."
   ]
  },
  {
   "cell_type": "markdown",
   "id": "268dabd9",
   "metadata": {},
   "source": [
    "#### Confusion Matrix"
   ]
  },
  {
   "cell_type": "markdown",
   "id": "b41aebb1",
   "metadata": {},
   "source": [
    "A much better way to evaluate the performance of a classifier is to look at the confusion matrix.\n",
    "\n",
    "The general idea is to count the number of times instances of class A are classified as class B.\n",
    "\n",
    "For example, to know the number of times the classifier confused a 5 with a 3, you would look in the fifth row and third column of the matrix."
   ]
  },
  {
   "cell_type": "markdown",
   "id": "af59a558",
   "metadata": {},
   "source": [
    "You first need a set of predictions so they can be compared to the actual targets."
   ]
  },
  {
   "cell_type": "code",
   "execution_count": 16,
   "id": "f770cabb",
   "metadata": {},
   "outputs": [],
   "source": [
    "# Perform three-fold cross-validation and return the predictions made on each fold\n",
    "\n",
    "from sklearn.model_selection import cross_val_predict\n",
    "\n",
    "y_train_pred = cross_val_predict(sgd_clf, X_train, y_train_5, cv=3)"
   ]
  },
  {
   "cell_type": "code",
   "execution_count": 17,
   "id": "369c385d",
   "metadata": {},
   "outputs": [
    {
     "data": {
      "text/plain": [
       "array([[54209,   370],\n",
       "       [ 2200,  3221]], dtype=int64)"
      ]
     },
     "execution_count": 17,
     "metadata": {},
     "output_type": "execute_result"
    }
   ],
   "source": [
    "# Generate confusion matrix\n",
    "\n",
    "from sklearn.metrics import confusion_matrix\n",
    "\n",
    "confusion_matrix(y_train_5, y_train_pred)"
   ]
  },
  {
   "cell_type": "markdown",
   "id": "6798d8a1",
   "metadata": {},
   "source": [
    "**The first row is the negative class and considers non-5 images**\n",
    " - 53,568 non-5s were correctly classified as non-5s (*true negatives*)\n",
    " - 1,011 were wrongly classified as 5s (*false positives*)\n",
    "\n",
    "**The second row is the positive class and considers the images of 5s**\n",
    " - 1,269 were wrongly classified as non-5s (*false negatives*)\n",
    " - 4,152 were correctly classified as 5s (*true positives*)"
   ]
  },
  {
   "cell_type": "markdown",
   "id": "7197dfc2",
   "metadata": {},
   "source": [
    "#### Precision and Recall"
   ]
  },
  {
   "cell_type": "markdown",
   "id": "d55f2d42",
   "metadata": {},
   "source": [
    "The confusion matrix gives a lot of information, but a more concise metric may be preferred.\n",
    "\n",
    "*Precision* of the classifier looks at the accuracy of the positive predictions.\n",
    "$$\n",
    "precision = \\frac{TP}{TP + FP}\n",
    "$$\n",
    "TP = true positives\n",
    "<br>FP = false positives\n",
    "\n",
    "Precision is typically used with another metric called *recall*, also called *sensitivity*, or the *true positive rate* (TPR). This is the ratio of positive instances that are correctly detected by the classifier.\n",
    "$$\n",
    "recall = \\frac{TP}{TP + FN}\n",
    "$$\n",
    "FN = false negatives"
   ]
  },
  {
   "cell_type": "code",
   "execution_count": 18,
   "id": "580ce3db",
   "metadata": {},
   "outputs": [
    {
     "name": "stdout",
     "output_type": "stream",
     "text": [
      "precision: 0.8970 recall: 0.5942\n"
     ]
    }
   ],
   "source": [
    "# Calculate precision and recall\n",
    "\n",
    "from sklearn.metrics import precision_score, recall_score\n",
    "\n",
    "precision = precision_score(y_train_5, y_train_pred)\n",
    "recall = recall_score(y_train_5, y_train_pred)\n",
    "\n",
    "print(f'precision: {precision:.4f} recall: {recall:.4f}')"
   ]
  },
  {
   "cell_type": "markdown",
   "id": "7c69af09",
   "metadata": {},
   "source": [
    "When the model claims an image is a 5, it is correct 80.42% of the time and detects 76.59% of them."
   ]
  },
  {
   "cell_type": "markdown",
   "id": "46bea6b6",
   "metadata": {},
   "source": [
    "It is often convenient to combine the precision and recall into one metric called the F<sub>1</sub> score.\n",
    "\n",
    "The F<sub>1</sub> score is the *harmonic mean* of precision and recall. The harmonic mean gives more weight to low values, therefore the classifier will only get a high F<sub>1</sub> score if both the recall and precision are high.\n",
    "\n",
    "$$\n",
    "F_1 = \\frac{2}{\\frac{1}{precision} + \\frac{1}{recall}} = 2 \\times \\frac{precision \\times recall}{precision + recall} = \\frac{TP}{TP + \\frac{FN+FP}{2}}\n",
    "$$"
   ]
  },
  {
   "cell_type": "code",
   "execution_count": 19,
   "id": "4cc776ea",
   "metadata": {},
   "outputs": [
    {
     "data": {
      "text/plain": [
       "0.7148246782068354"
      ]
     },
     "execution_count": 19,
     "metadata": {},
     "output_type": "execute_result"
    }
   ],
   "source": [
    "# Compute the F1 score\n",
    "\n",
    "from sklearn.metrics import f1_score\n",
    "\n",
    "f1_score(y_train_5, y_train_pred)"
   ]
  },
  {
   "cell_type": "markdown",
   "id": "c99df404",
   "metadata": {},
   "source": [
    "The F<sub>1</sub> score favours classifiers that have similar precision and recall. This is not always what you want, sometimes you might prioritise precision over recall.\n",
    "\n",
    "Increasing precision reduces recall and vice versa. This is the *precision/recall trade-off*"
   ]
  },
  {
   "cell_type": "markdown",
   "id": "2cd0b315",
   "metadata": {},
   "source": [
    "#### Precision/Recall Trade-Off"
   ]
  },
  {
   "cell_type": "markdown",
   "id": "f8df626e",
   "metadata": {},
   "source": [
    "SGDClassifier computes a score based on a decision function and assigns a class based on if the score is above or below a threshold. Raising the threshold increases precision and decreasing the threshold increases recall."
   ]
  },
  {
   "cell_type": "code",
   "execution_count": 20,
   "id": "f1a9e890",
   "metadata": {},
   "outputs": [
    {
     "data": {
      "image/png": "[encoded data removed]",
      "text/plain": [
       "<Figure size 576x288 with 1 Axes>"
      ]
     },
     "metadata": {
      "needs_background": "light"
     },
     "output_type": "display_data"
    }
   ],
   "source": [
    "# Plot precision and recall for different threshold values\n",
    "\n",
    "y_scores = cross_val_predict(sgd_clf, X_train, y_train_5, cv=3,\n",
    "                            method='decision_function')\n",
    "\n",
    "from sklearn.metrics import precision_recall_curve\n",
    "\n",
    "precisions, recalls, thresholds = precision_recall_curve(y_train_5, y_scores)\n",
    "\n",
    "def plot_precision_recall_vs_threshold(precisions, recalls, thresholds):\n",
    "    plt.plot(thresholds, precisions[:-1], 'b--', label='Precision')\n",
    "    plt.plot(thresholds, recalls[:-1], 'g-', label='recall')\n",
    "    plt.xlabel(\"Threshold\", fontsize=16)\n",
    "    plt.legend(loc=\"upper left\", fontsize=16)\n",
    "    plt.ylim([0, 1])\n",
    "    \n",
    "    \n",
    "plt.figure(figsize=(8, 4))\n",
    "plot_precision_recall_vs_threshold(precisions, recalls, thresholds)\n",
    "plt.xlim([-700000, 700000])\n",
    "plt.show()"
   ]
  },
  {
   "cell_type": "code",
   "execution_count": 21,
   "id": "a381cafd",
   "metadata": {},
   "outputs": [
    {
     "data": {
      "image/png": "[encoded data removed]",
      "text/plain": [
       "<Figure size 576x432 with 1 Axes>"
      ]
     },
     "metadata": {
      "needs_background": "light"
     },
     "output_type": "display_data"
    }
   ],
   "source": [
    "# Plot precision against recall\n",
    "\n",
    "def plot_precision_vs_recall(precisions, recalls):\n",
    "    plt.plot(recalls, precisions, \"b-\", linewidth=2)\n",
    "    plt.xlabel(\"Recall\", fontsize=16)\n",
    "    plt.ylabel(\"Precision\", fontsize=16)\n",
    "    plt.axis([0, 1, 0, 1])\n",
    "\n",
    "plt.figure(figsize=(8, 6))\n",
    "plot_precision_vs_recall(precisions, recalls)\n",
    "plt.show()"
   ]
  },
  {
   "cell_type": "code",
   "execution_count": 22,
   "id": "7bf864d6",
   "metadata": {},
   "outputs": [],
   "source": [
    "# Get the lowest threshold that gives you at least 90% precision\n",
    "\n",
    "threshold_90_precision = thresholds[np.argmax(precisions >= 0.90)]"
   ]
  },
  {
   "cell_type": "code",
   "execution_count": 23,
   "id": "62c722af",
   "metadata": {},
   "outputs": [],
   "source": [
    "# Make predictions\n",
    "\n",
    "y_train_pred_90 = (y_scores >= threshold_90_precision)"
   ]
  },
  {
   "cell_type": "code",
   "execution_count": 24,
   "id": "8be80747",
   "metadata": {},
   "outputs": [
    {
     "name": "stdout",
     "output_type": "stream",
     "text": [
      "precision: 0.9001 recall: 0.5848\n"
     ]
    }
   ],
   "source": [
    "# Calculate precision and recall\n",
    "\n",
    "precision = precision_score(y_train_5, y_train_pred_90)\n",
    "recall = recall_score(y_train_5, y_train_pred_90)\n",
    "\n",
    "print(f'precision: {precision:.4f} recall: {recall:.4f}')"
   ]
  },
  {
   "cell_type": "markdown",
   "id": "c691f74f",
   "metadata": {},
   "source": [
    "#### The ROC Curve"
   ]
  },
  {
   "cell_type": "markdown",
   "id": "9625b4c7",
   "metadata": {},
   "source": [
    "The *reciever operating characteristic* (ROC) curve plots the TPR against the FPR. The FPR is the false positive rate is the ratio of negative instances that are incorrectly classified as positive. It is equal to 1 - the *true negative rate*. The true negative rate is the ratio of negative instances that are correctly classified as negative. The TNR is also called *specificity*. The ROC plots *sensitivity* against 1 - *specificity*"
   ]
  },
  {
   "cell_type": "code",
   "execution_count": 25,
   "id": "0630676c",
   "metadata": {},
   "outputs": [
    {
     "data": {
      "image/png": "[encoded data removed]",
      "text/plain": [
       "<Figure size 432x288 with 1 Axes>"
      ]
     },
     "metadata": {
      "needs_background": "light"
     },
     "output_type": "display_data"
    }
   ],
   "source": [
    "from sklearn.metrics import roc_curve\n",
    "\n",
    "fpr, tpr, thresholds = roc_curve(y_train_5, y_scores)\n",
    "\n",
    "def plot_roc_curve(fpr, tpr, label=None):\n",
    "    plt.plot(fpr, tpr, linewidth=2, label=label)\n",
    "    plt.plot([0, 1], [0, 1], 'k--')\n",
    "    plt.axis([0, 1, 0, 1])\n",
    "    plt.xlabel('False Positive Rate', fontsize=16)\n",
    "    plt.ylabel('True Positive Rate', fontsize=16)\n",
    "    \n",
    "plot_roc_curve(fpr, tpr)\n",
    "plt.show()"
   ]
  },
  {
   "cell_type": "markdown",
   "id": "fc479053",
   "metadata": {},
   "source": [
    "There is also a trade-off. The higher the recall (TPR), the more false positives (FPR) the classifier produces. The dotted line represents a purely random classifier."
   ]
  },
  {
   "cell_type": "markdown",
   "id": "904e7554",
   "metadata": {},
   "source": [
    "Another way to compare classifiers is to use the *area under the curve* (AUC). A perfect classifier will have a ROC AUC of 1, a purely random classifier will have a ROC AUC of 0.5."
   ]
  },
  {
   "cell_type": "code",
   "execution_count": 26,
   "id": "01b6b02c",
   "metadata": {},
   "outputs": [
    {
     "data": {
      "text/plain": [
       "0.9569770226802122"
      ]
     },
     "execution_count": 26,
     "metadata": {},
     "output_type": "execute_result"
    }
   ],
   "source": [
    "from sklearn.metrics import roc_auc_score\n",
    "\n",
    "roc_auc_score(y_train_5, y_scores)"
   ]
  },
  {
   "cell_type": "markdown",
   "id": "7f744c36",
   "metadata": {},
   "source": [
    "In general the PR curve is preferred when the positive class is rare, and the ROC otherwise."
   ]
  },
  {
   "cell_type": "markdown",
   "id": "41795a1f",
   "metadata": {},
   "source": [
    "We can train a random forest classifier and compare its ROC curve and ROC AUC score to the SGD classifier."
   ]
  },
  {
   "cell_type": "code",
   "execution_count": 27,
   "id": "fe54a142",
   "metadata": {},
   "outputs": [],
   "source": [
    "# Train a random forest classifier\n",
    "\n",
    "from sklearn.ensemble import RandomForestClassifier\n",
    "\n",
    "forest_clf = RandomForestClassifier(random_state=42)\n",
    "y_probas_forest = cross_val_predict(forest_clf, X_train, y_train_5, cv=3,\n",
    "                                   method='predict_proba')"
   ]
  },
  {
   "cell_type": "code",
   "execution_count": 28,
   "id": "575b1b83",
   "metadata": {},
   "outputs": [],
   "source": [
    "# Use the positive class probability as the score\n",
    "\n",
    "y_scores_forest = y_probas_forest[:, 1]\n",
    "fpr_forest, tpr_forest, thresholds_forest = roc_curve(y_train_5, y_scores_forest)"
   ]
  },
  {
   "cell_type": "code",
   "execution_count": 29,
   "id": "a08d4585",
   "metadata": {},
   "outputs": [
    {
     "data": {
      "image/png": "[encoded data removed]",
      "text/plain": [
       "<Figure size 432x288 with 1 Axes>"
      ]
     },
     "metadata": {
      "needs_background": "light"
     },
     "output_type": "display_data"
    }
   ],
   "source": [
    "# Plot the two ROC curves\n",
    "\n",
    "plt.plot(fpr, tpr, 'b:', label='SGD')\n",
    "plot_roc_curve(fpr_forest, tpr_forest, 'Random Forest')\n",
    "plt.legend(loc='lower right')\n",
    "plt.show()"
   ]
  },
  {
   "cell_type": "code",
   "execution_count": 30,
   "id": "c6ca4b3e",
   "metadata": {},
   "outputs": [
    {
     "data": {
      "text/plain": [
       "0.9985360886163906"
      ]
     },
     "execution_count": 30,
     "metadata": {},
     "output_type": "execute_result"
    }
   ],
   "source": [
    "# Display ROC AUC score\n",
    "\n",
    "roc_auc_score(y_train_5, y_scores_forest)"
   ]
  },
  {
   "cell_type": "markdown",
   "id": "39117191",
   "metadata": {},
   "source": [
    "The random forest has a much better ROC AUC score."
   ]
  },
  {
   "cell_type": "markdown",
   "id": "c0563c95",
   "metadata": {},
   "source": [
    "### Multiclass Classification"
   ]
  },
  {
   "cell_type": "markdown",
   "id": "e891648c",
   "metadata": {},
   "source": [
    "Some algorithms are capable of handling multiple classes natively\n",
    " - Logistic regression\n",
    " - Random forest\n",
    " - Naive Bayes\n",
    " \n",
    "Others are strictly binary\n",
    " - SGD\n",
    " - Support vector machines\n",
    " \n",
    "However, there are strategies for doing multiclass classification using binary classifiers."
   ]
  },
  {
   "cell_type": "markdown",
   "id": "032fd766",
   "metadata": {},
   "source": [
    "*One-versus-the-rest* (OvR) or *one-versus all*\n",
    " - train binary classifiers for each class and select the class that outputs the highest score\n",
    "\n",
    "*One-versus-one* (OvO)\n",
    "  - Train a binary classifier for each pair of digits\n",
    "  - If there are N classes, you need to train N * (N - 1) / 1 classifiers\n",
    "  - You then run all of the binary classifiers and see which class wins the most duels\n",
    "  \n",
    "Scikit-Learn automatically uses OvO or OvR when you use a binary classifier for a multiclass classification problem."
   ]
  },
  {
   "cell_type": "code",
   "execution_count": 31,
   "id": "dce76f28",
   "metadata": {},
   "outputs": [
    {
     "data": {
      "text/plain": [
       "array([5], dtype=int8)"
      ]
     },
     "execution_count": 31,
     "metadata": {},
     "output_type": "execute_result"
    }
   ],
   "source": [
    "# Train a support vector machine classifier for all digits - sklearn uses the OvO strategy\n",
    "\n",
    "from sklearn.svm import SVC\n",
    "\n",
    "svm_clf = SVC()\n",
    "svm_clf.fit(X_train, y_train) # y_train, not y_train_5\n",
    "svm_clf.predict([some_digit])"
   ]
  },
  {
   "cell_type": "code",
   "execution_count": 32,
   "id": "b6a327a0",
   "metadata": {},
   "outputs": [
    {
     "data": {
      "text/plain": [
       "array([[-0.28042726,  8.23804304,  5.89525096,  3.74363471,  5.18475826,\n",
       "         9.30818406,  1.76786756,  0.73374533,  7.23615513,  2.74849965]])"
      ]
     },
     "execution_count": 32,
     "metadata": {},
     "output_type": "execute_result"
    }
   ],
   "source": [
    "# Returns 10 scores, one from each class\n",
    "\n",
    "some_digit_scores = svm_clf.decision_function([some_digit])\n",
    "some_digit_scores"
   ]
  },
  {
   "cell_type": "code",
   "execution_count": 33,
   "id": "5c4182a7",
   "metadata": {},
   "outputs": [
    {
     "data": {
      "text/plain": [
       "array([5], dtype=int8)"
      ]
     },
     "execution_count": 33,
     "metadata": {},
     "output_type": "execute_result"
    }
   ],
   "source": [
    "# Can use the OneVsOneClassifier or OneVsRestClassifier classes to specify which to use\n",
    "\n",
    "from sklearn.multiclass import OneVsRestClassifier\n",
    "\n",
    "ovr_clf = OneVsRestClassifier(SVC())\n",
    "ovr_clf.fit(X_train, y_train)\n",
    "ovr_clf.predict([some_digit])"
   ]
  },
  {
   "cell_type": "code",
   "execution_count": 34,
   "id": "d906cec1",
   "metadata": {},
   "outputs": [
    {
     "data": {
      "text/plain": [
       "array([5], dtype=int8)"
      ]
     },
     "execution_count": 34,
     "metadata": {},
     "output_type": "execute_result"
    }
   ],
   "source": [
    "# Train a SGDClassifier on multiple classes - This time Scikit-Learn will use the OvR strategy\n",
    "\n",
    "sgd_clf.fit(X_train, y_train)\n",
    "sgd_clf.predict([some_digit])"
   ]
  },
  {
   "cell_type": "code",
   "execution_count": 35,
   "id": "810eb1dd",
   "metadata": {},
   "outputs": [
    {
     "data": {
      "text/plain": [
       "array([0.88205, 0.86845, 0.8344 ])"
      ]
     },
     "execution_count": 35,
     "metadata": {},
     "output_type": "execute_result"
    }
   ],
   "source": [
    "# Evaluate the SGD model\n",
    "\n",
    "cross_val_score(sgd_clf, X_train, y_train, cv=3, scoring='accuracy')"
   ]
  },
  {
   "cell_type": "code",
   "execution_count": 36,
   "id": "6a0e360a",
   "metadata": {},
   "outputs": [
    {
     "data": {
      "text/plain": [
       "array([0.90845, 0.91035, 0.91295])"
      ]
     },
     "execution_count": 36,
     "metadata": {},
     "output_type": "execute_result"
    }
   ],
   "source": [
    "# Scale the inputs\n",
    "\n",
    "from sklearn.preprocessing import StandardScaler\n",
    "\n",
    "scaler = StandardScaler()\n",
    "X_train_scaled = scaler.fit_transform(X_train.astype(np.float64))\n",
    "cross_val_score(sgd_clf, X_train_scaled, y_train, cv=3, scoring='accuracy')"
   ]
  },
  {
   "cell_type": "markdown",
   "id": "fd74ea75",
   "metadata": {},
   "source": [
    "### Error Analysis"
   ]
  },
  {
   "cell_type": "markdown",
   "id": "f50171c8",
   "metadata": {},
   "source": [
    "First, we will look at the confusion matrix."
   ]
  },
  {
   "cell_type": "code",
   "execution_count": 37,
   "id": "eb7c6fa8",
   "metadata": {},
   "outputs": [
    {
     "data": {
      "text/plain": [
       "array([[5718,    2,   29,   10,   10,   53,   50,    9,   38,    4],\n",
       "       [   1, 6498,   46,   25,    6,   39,    7,   11,   98,   11],\n",
       "       [  52,   44, 5327,  110,   82,   25,   86,   52,  169,   11],\n",
       "       [  42,   37,  142, 5378,    2,  222,   38,   56,  140,   74],\n",
       "       [  19,   29,   38,   10, 5381,   10,   53,   24,   83,  195],\n",
       "       [  65,   37,   32,  193,   77, 4612,  124,   33,  169,   79],\n",
       "       [  32,   24,   44,    1,   39,   86, 5642,    7,   43,    0],\n",
       "       [  18,   23,   69,   30,   52,   10,    6, 5839,   18,  200],\n",
       "       [  49,  148,   68,  173,   14,  168,   57,   25, 5026,  123],\n",
       "       [  38,   43,   29,   91,  185,   37,    2,  222,   88, 5214]],\n",
       "      dtype=int64)"
      ]
     },
     "execution_count": 37,
     "metadata": {},
     "output_type": "execute_result"
    }
   ],
   "source": [
    "# Generate the confusion matrix\n",
    "\n",
    "y_train_pred = cross_val_predict(sgd_clf, X_train_scaled, y_train, cv=3)\n",
    "conf_mx = confusion_matrix(y_train, y_train_pred)\n",
    "conf_mx"
   ]
  },
  {
   "cell_type": "code",
   "execution_count": 38,
   "id": "fbf3f0f7",
   "metadata": {},
   "outputs": [
    {
     "data": {
      "image/png": "[encoded data removed]",
      "text/plain": [
       "<Figure size 288x288 with 1 Axes>"
      ]
     },
     "metadata": {
      "needs_background": "light"
     },
     "output_type": "display_data"
    }
   ],
   "source": [
    "# Plot the confusion matrix\n",
    "\n",
    "plt.matshow(conf_mx, cmap=plt.cm.gray)\n",
    "plt.show()"
   ]
  },
  {
   "cell_type": "code",
   "execution_count": 39,
   "id": "43ab59b7",
   "metadata": {},
   "outputs": [],
   "source": [
    "# Divide each value in the confusion matrix by the number of images in the corresponding class to give error rates\n",
    "\n",
    "row_sums = conf_mx.sum(axis=1, keepdims=True)\n",
    "norm_conf_mx = conf_mx / row_sums"
   ]
  },
  {
   "cell_type": "code",
   "execution_count": 40,
   "id": "cd9ddf66",
   "metadata": {},
   "outputs": [
    {
     "data": {
      "image/png": "[encoded data removed]",
      "text/plain": [
       "<Figure size 288x288 with 1 Axes>"
      ]
     },
     "metadata": {
      "needs_background": "light"
     },
     "output_type": "display_data"
    }
   ],
   "source": [
    "np.fill_diagonal(norm_conf_mx, 0)\n",
    "plt.matshow(norm_conf_mx, cmap=plt.cm.gray)\n",
    "plt.show()"
   ]
  },
  {
   "cell_type": "markdown",
   "id": "7c3608bc",
   "metadata": {},
   "source": [
    "Rows represent actual classes, while columns represent predicted classes. The column for class 8 is quite bright - this means many images get misclassified as 8s. The row for 8s is not bad, meaning 8s are generally correctly classified as 8s. You can also see that 5s and 3s get confused in both directions.\n",
    "\n",
    "Analysing the confusion matrix often gives insights into how to improve the classifier. In this case, spending time on reducing false 8s would be useful."
   ]
  },
  {
   "cell_type": "markdown",
   "id": "9bc07051",
   "metadata": {},
   "source": [
    "### Multilabel Classification"
   ]
  },
  {
   "cell_type": "markdown",
   "id": "0f6bb63c",
   "metadata": {},
   "source": [
    "In some cases you will want multiple classes assigned to each instance"
   ]
  },
  {
   "cell_type": "code",
   "execution_count": 41,
   "id": "c95f70ce",
   "metadata": {},
   "outputs": [
    {
     "data": {
      "text/plain": [
       "KNeighborsClassifier()"
      ]
     },
     "execution_count": 41,
     "metadata": {},
     "output_type": "execute_result"
    }
   ],
   "source": [
    "# The first label indicates whether the digit is large (7, 8, 9) and the second, whether or not it is odd.\n",
    "\n",
    "from sklearn.neighbors import KNeighborsClassifier\n",
    "\n",
    "y_train_large = (y_train >= 7)\n",
    "y_train_odd = (y_train % 2 == 1)\n",
    "y_multilabel = np.c_[y_train_large, y_train_odd]\n",
    "\n",
    "knn_clf = KNeighborsClassifier()\n",
    "knn_clf.fit(X_train, y_multilabel)"
   ]
  },
  {
   "cell_type": "code",
   "execution_count": 42,
   "id": "fd292e5d",
   "metadata": {},
   "outputs": [
    {
     "data": {
      "text/plain": [
       "array([[False,  True]])"
      ]
     },
     "execution_count": 42,
     "metadata": {},
     "output_type": "execute_result"
    }
   ],
   "source": [
    "knn_clf.predict([some_digit])"
   ]
  },
  {
   "cell_type": "markdown",
   "id": "f1d78d31",
   "metadata": {},
   "source": [
    "There are many ways to evaluate a multilabel classifier. One approach is to measure the F<sub>1</sub> score for each individual label, then compute the average score."
   ]
  },
  {
   "cell_type": "code",
   "execution_count": 43,
   "id": "b5bc9bac",
   "metadata": {},
   "outputs": [
    {
     "data": {
      "text/plain": [
       "0.9769863846864749"
      ]
     },
     "execution_count": 43,
     "metadata": {},
     "output_type": "execute_result"
    }
   ],
   "source": [
    "y_train_knn_pred = cross_val_predict(knn_clf, X_train, y_multilabel, cv=3)\n",
    "f1_score(y_multilabel, y_train_knn_pred, average='macro')"
   ]
  },
  {
   "cell_type": "markdown",
   "id": "d7aa2f10",
   "metadata": {},
   "source": [
    "This assumes that all labels are equally important which may not be the case. If there are many more instances of a class than others, you may want to weight the label equal to its *support* (the number of instances with that target label)."
   ]
  },
  {
   "cell_type": "markdown",
   "id": "6a10a461",
   "metadata": {},
   "source": [
    "### Multioutput Classification"
   ]
  },
  {
   "cell_type": "markdown",
   "id": "149e9302",
   "metadata": {},
   "source": [
    "Each label can be multiclass (i.e. can have more than two possible values).\n",
    "\n",
    "To illustrate this we can build a system that removes noise from images. It will take a noisy digit image as input and output a clean digit image, represented as an array of pixel intensities. The classifiers output is multilabel (one label per pixel) and each label can have multiple values (0 to 255)."
   ]
  },
  {
   "cell_type": "code",
   "execution_count": 44,
   "id": "44d2c388",
   "metadata": {},
   "outputs": [],
   "source": [
    "# Take the MNIST images and add noise using NumPy's randint() function. The target images will be the original images\n",
    "\n",
    "noise = np.random.randint(0, 100, (len(X_train), 784))\n",
    "X_train_mod = X_train + noise\n",
    "noise = np.random.randint(0, 100, (len(X_test), 784))\n",
    "X_test_mod = X_test + noise\n",
    "y_train_mod = X_train\n",
    "y_test_mod = X_test"
   ]
  },
  {
   "cell_type": "code",
   "execution_count": 45,
   "id": "c9ee05d8",
   "metadata": {},
   "outputs": [],
   "source": [
    "def plot_digit(data):\n",
    "    image = data.reshape(28, 28)\n",
    "    plt.imshow(image, cmap = mpl.cm.binary,\n",
    "               interpolation=\"nearest\")\n",
    "    plt.axis(\"off\")"
   ]
  },
  {
   "cell_type": "code",
   "execution_count": 46,
   "id": "eac1c3c8",
   "metadata": {},
   "outputs": [
    {
     "data": {
      "image/png": "[encoded data removed]",
      "text/plain": [
       "<Figure size 432x288 with 2 Axes>"
      ]
     },
     "metadata": {
      "needs_background": "light"
     },
     "output_type": "display_data"
    }
   ],
   "source": [
    "# Plot the noisy and original digit\n",
    "\n",
    "some_index = 5500\n",
    "plt.subplot(121); plot_digit(X_test_mod[some_index])\n",
    "plt.subplot(122); plot_digit(y_test_mod[some_index])\n",
    "plt.show()"
   ]
  },
  {
   "cell_type": "code",
   "execution_count": 47,
   "id": "fdbc0a08",
   "metadata": {},
   "outputs": [
    {
     "data": {
      "image/png": "[encoded data removed]",
      "text/plain": [
       "<Figure size 432x288 with 1 Axes>"
      ]
     },
     "metadata": {
      "needs_background": "light"
     },
     "output_type": "display_data"
    }
   ],
   "source": [
    "# Train the classifier and clean the image\n",
    "\n",
    "knn_clf.fit(X_train_mod, y_train_mod)\n",
    "clean_digit = knn_clf.predict([X_test_mod[some_index]])\n",
    "plot_digit(clean_digit)"
   ]
  },
  {
   "cell_type": "markdown",
   "id": "ec935f48",
   "metadata": {},
   "source": [
    "## Exercises"
   ]
  },
  {
   "cell_type": "markdown",
   "id": "cdc087f9",
   "metadata": {},
   "source": [
    "#### 1. Try to build a classifier for the MNIST dataset that achieves over 97% accuracy on the test set."
   ]
  },
  {
   "cell_type": "code",
   "execution_count": 60,
   "id": "19946b98",
   "metadata": {},
   "outputs": [
    {
     "name": "stdout",
     "output_type": "stream",
     "text": [
      "Fitting 5 folds for each of 6 candidates, totalling 30 fits\n"
     ]
    },
    {
     "data": {
      "text/plain": [
       "GridSearchCV(cv=5, estimator=KNeighborsClassifier(), n_jobs=-1,\n",
       "             param_grid=[{'n_neighbors': [3, 4, 5],\n",
       "                          'weights': ['uniform', 'distance']}],\n",
       "             verbose=3)"
      ]
     },
     "execution_count": 60,
     "metadata": {},
     "output_type": "execute_result"
    }
   ],
   "source": [
    "from sklearn.neighbors import KNeighborsClassifier\n",
    "from sklearn.model_selection import GridSearchCV\n",
    "\n",
    "param_grid = [\n",
    "    {'weights':['uniform', 'distance'],\n",
    "     'n_neighbors':[3, 4, 5],\n",
    "    }\n",
    "]\n",
    "\n",
    "knn_clf = KNeighborsClassifier()\n",
    "#X_train_scaled = scaler.fit_transform(X_train.astype(np.float64))\n",
    "grid_search = GridSearchCV(knn_clf, param_grid, cv=5,\n",
    "                          verbose=3,\n",
    "                          n_jobs=-1)\n",
    "\n",
    "grid_search.fit(X_train, y_train)"
   ]
  },
  {
   "cell_type": "code",
   "execution_count": 61,
   "id": "8eabe4b2",
   "metadata": {},
   "outputs": [
    {
     "data": {
      "text/plain": [
       "{'n_neighbors': 4, 'weights': 'distance'}"
      ]
     },
     "execution_count": 61,
     "metadata": {},
     "output_type": "execute_result"
    }
   ],
   "source": [
    "grid_search.best_params_"
   ]
  },
  {
   "cell_type": "code",
   "execution_count": 62,
   "id": "70c31a11",
   "metadata": {},
   "outputs": [
    {
     "data": {
      "text/plain": [
       "0.9735833333333332"
      ]
     },
     "execution_count": 62,
     "metadata": {},
     "output_type": "execute_result"
    }
   ],
   "source": [
    "grid_search.best_score_"
   ]
  },
  {
   "cell_type": "code",
   "execution_count": 64,
   "id": "3f76e6ed",
   "metadata": {},
   "outputs": [
    {
     "data": {
      "text/plain": [
       "0.9714"
      ]
     },
     "execution_count": 64,
     "metadata": {},
     "output_type": "execute_result"
    }
   ],
   "source": [
    "from sklearn.metrics import accuracy_score\n",
    "\n",
    "y_pred = grid_search.predict(X_test)\n",
    "accuracy_score(y_test, y_pred)"
   ]
  }
 ],
 "metadata": {
  "kernelspec": {
   "display_name": "Python 3",
   "language": "python",
   "name": "python3"
  },
  "language_info": {
   "codemirror_mode": {
    "name": "ipython",
    "version": 3
   },
   "file_extension": ".py",
   "mimetype": "text/x-python",
   "name": "python",
   "nbconvert_exporter": "python",
   "pygments_lexer": "ipython3",
   "version": "3.8.8"
  }
 },
 "nbformat": 4,
 "nbformat_minor": 5
}
